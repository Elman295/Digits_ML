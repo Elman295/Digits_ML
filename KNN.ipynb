{
 "cells": [
  {
   "cell_type": "markdown",
   "id": "324ed72c",
   "metadata": {},
   "source": [
    "# KNN"
   ]
  },
  {
   "cell_type": "code",
   "execution_count": 107,
   "id": "c66a01fb",
   "metadata": {},
   "outputs": [],
   "source": [
    "from sklearn.datasets import load_digits\n",
    "from sklearn.model_selection import train_test_split\n",
    "from sklearn.neighbors import KNeighborsClassifier\n",
    "from sklearn.preprocessing import Normalizer\n",
    "%matplotlib inline\n",
    "import matplotlib.pyplot as plt\n",
    "from sklearn.metrics import confusion_matrix\n",
    "import joblib"
   ]
  },
  {
   "cell_type": "code",
   "execution_count": 94,
   "id": "5ab31119",
   "metadata": {},
   "outputs": [
    {
     "name": "stdout",
     "output_type": "stream",
     "text": [
      "dict_keys(['data', 'target', 'frame', 'feature_names', 'target_names', 'images', 'DESCR'])\n"
     ]
    }
   ],
   "source": [
    "digits = load_digits()\n",
    "print(digits.keys())"
   ]
  },
  {
   "cell_type": "code",
   "execution_count": 95,
   "id": "dee62a0e",
   "metadata": {},
   "outputs": [
    {
     "name": "stdout",
     "output_type": "stream",
     "text": [
      "(1797, 64)\n",
      "(1797,)\n",
      "shapes of x_train and x_test  (1437, 64) , (360, 64)\n",
      "shapes of y_train and y_test  (1437,) , (360,)\n"
     ]
    }
   ],
   "source": [
    "x, y = digits.data, digits.target\n",
    "\n",
    "x_train, x_test, y_train, y_test = train_test_split(x,y, test_size=0.2)\n",
    "\n",
    "print(x.shape)\n",
    "print(y.shape)\n",
    "print(f\"shapes of x_train and x_test  {x_train.shape} , {x_test.shape}\")\n",
    "print(f\"shapes of y_train and y_test  {y_train.shape} , {y_test.shape}\")"
   ]
  },
  {
   "cell_type": "markdown",
   "id": "4fc019d0",
   "metadata": {},
   "source": [
    "# Fit"
   ]
  },
  {
   "cell_type": "markdown",
   "id": "ddddb073",
   "metadata": {},
   "source": [
    "default neighbours = 5"
   ]
  },
  {
   "cell_type": "code",
   "execution_count": 96,
   "id": "e50a2c51",
   "metadata": {},
   "outputs": [
    {
     "data": {
      "text/plain": [
       "KNeighborsClassifier()"
      ]
     },
     "execution_count": 96,
     "metadata": {},
     "output_type": "execute_result"
    }
   ],
   "source": [
    "clf = KNeighborsClassifier()\n",
    "clf.fit(x_train, y_train)"
   ]
  },
  {
   "cell_type": "markdown",
   "id": "31914818",
   "metadata": {},
   "source": [
    "accuracy :"
   ]
  },
  {
   "cell_type": "code",
   "execution_count": 97,
   "id": "273c1873",
   "metadata": {},
   "outputs": [
    {
     "name": "stdout",
     "output_type": "stream",
     "text": [
      "train dataset accuracy : 0.9909533750869868\n",
      "test dataset accuracy : 0.9861111111111112\n"
     ]
    }
   ],
   "source": [
    "print(f\"train dataset accuracy : {clf.score(x_train,y_train)}\")\n",
    "print(f\"test dataset accuracy : {clf.score(x_test,y_test)}\")"
   ]
  },
  {
   "cell_type": "markdown",
   "id": "91d48664",
   "metadata": {},
   "source": [
    "After scaling :"
   ]
  },
  {
   "cell_type": "code",
   "execution_count": 98,
   "id": "e6d2e5c3",
   "metadata": {},
   "outputs": [],
   "source": [
    "scaler = Normalizer()\n",
    "scaler.fit(x_train)\n",
    "x_train_scale = scaler.transform(x_train)\n",
    "x_test_scale = scaler.transform(x_test)"
   ]
  },
  {
   "cell_type": "code",
   "execution_count": 99,
   "id": "c7b34328",
   "metadata": {},
   "outputs": [
    {
     "data": {
      "text/plain": [
       "KNeighborsClassifier()"
      ]
     },
     "execution_count": 99,
     "metadata": {},
     "output_type": "execute_result"
    }
   ],
   "source": [
    "clf_scale = KNeighborsClassifier()\n",
    "clf_scale.fit(x_train_scale,y_train)"
   ]
  },
  {
   "cell_type": "code",
   "execution_count": 100,
   "id": "e38f2201",
   "metadata": {},
   "outputs": [
    {
     "name": "stdout",
     "output_type": "stream",
     "text": [
      "train dataset accuracy : 0.9909533750869868\n",
      "test dataset accuracy : 0.9888888888888889\n"
     ]
    }
   ],
   "source": [
    "print(f\"train dataset accuracy : {clf_scale.score(x_train_scale,y_train)}\")\n",
    "print(f\"test dataset accuracy : {clf_scale.score(x_test_scale,y_test)}\")"
   ]
  },
  {
   "cell_type": "markdown",
   "id": "b882ac26",
   "metadata": {},
   "source": [
    "Searching for best N :"
   ]
  },
  {
   "cell_type": "code",
   "execution_count": 101,
   "id": "f9fed79c",
   "metadata": {},
   "outputs": [
    {
     "name": "stdout",
     "output_type": "stream",
     "text": [
      "0\n",
      "3\n",
      "[1.0, 0.9902574808629089, 0.9930410577592206, 0.9923451635351427, 0.9909533750869868, 0.988865692414753, 0.9895615866388309, 0.9860821155184412, 0.9874739039665971]\n",
      "[0.9861111111111112, 0.9777777777777777, 0.9888888888888889, 0.9916666666666667, 0.9888888888888889, 0.9833333333333333, 0.9861111111111112, 0.9777777777777777, 0.9777777777777777]\n"
     ]
    }
   ],
   "source": [
    "train = []\n",
    "test = []\n",
    "\n",
    "for i in range(1,10):\n",
    "    clf_test = KNeighborsClassifier(n_neighbors=i)\n",
    "    clf_test.fit(x_train_scale,y_train)\n",
    "    train.append(clf_test.score(x_train_scale,y_train))\n",
    "    test.append(clf_test.score(x_test_scale,y_test))\n",
    "    \n",
    "print(train.index(max(train)))\n",
    "print(test.index(max(test)))\n",
    "\n",
    "print(train)\n",
    "print(test)\n",
    "    "
   ]
  },
  {
   "cell_type": "code",
   "execution_count": 102,
   "id": "5986f679",
   "metadata": {},
   "outputs": [
    {
     "data": {
      "image/png": "[encoded data removed]",
      "text/plain": [
       "<Figure size 432x288 with 1 Axes>"
      ]
     },
     "metadata": {
      "needs_background": "light"
     },
     "output_type": "display_data"
    }
   ],
   "source": [
    "plt.plot(train, color = \"red\")\n",
    "plt.plot(test, color = \"blue\")\n",
    "plt.legend(\"upper right\")\n",
    "plt.show()"
   ]
  },
  {
   "cell_type": "code",
   "execution_count": 103,
   "id": "9d48a735",
   "metadata": {},
   "outputs": [
    {
     "name": "stdout",
     "output_type": "stream",
     "text": [
      "train dataset accuracy : 0.9923451635351427\n",
      "test dataset accuracy : 0.9916666666666667\n"
     ]
    }
   ],
   "source": [
    "clf_main = KNeighborsClassifier(n_neighbors=4)\n",
    "clf_main.fit(x_train_scale,y_train)\n",
    "\n",
    "print(f\"train dataset accuracy : {clf_main.score(x_train_scale,y_train)}\")\n",
    "print(f\"test dataset accuracy : {clf_main.score(x_test_scale,y_test)}\")"
   ]
  },
  {
   "cell_type": "markdown",
   "id": "000254e7",
   "metadata": {},
   "source": [
    "# Prediction"
   ]
  },
  {
   "cell_type": "code",
   "execution_count": 105,
   "id": "c1b6a1e2",
   "metadata": {},
   "outputs": [
    {
     "name": "stdout",
     "output_type": "stream",
     "text": [
      "[[38  0  0  0  0  0  0  0  0  0]\n",
      " [ 0 34  0  0  0  0  0  0  0  0]\n",
      " [ 0  0 41  0  0  0  0  0  0  0]\n",
      " [ 0  0  0 36  0  0  0  0  0  0]\n",
      " [ 0  0  0  0 46  0  0  0  0  0]\n",
      " [ 0  0  0  0  0 30  0  0  0  1]\n",
      " [ 0  1  0  0  0  0 29  0  0  0]\n",
      " [ 0  0  0  0  0  0  0 39  0  0]\n",
      " [ 0  0  0  0  0  0  0  0 33  0]\n",
      " [ 0  0  0  1  0  0  0  0  0 31]]\n"
     ]
    }
   ],
   "source": [
    "y_pred = clf_main.predict(x_test_scale)\n",
    "cm = confusion_matrix(y_test,y_pred)\n",
    "print(cm)"
   ]
  },
  {
   "cell_type": "code",
   "execution_count": 106,
   "id": "f187409a",
   "metadata": {},
   "outputs": [
    {
     "data": {
      "image/png": "[encoded data removed]",
      "text/plain": [
       "<Figure size 432x288 with 1 Axes>"
      ]
     },
     "metadata": {
      "needs_background": "light"
     },
     "output_type": "display_data"
    }
   ],
   "source": [
    "plt.imshow(cm)\n",
    "plt.show()"
   ]
  },
  {
   "cell_type": "markdown",
   "id": "4a47204e",
   "metadata": {},
   "source": [
    "# Save "
   ]
  },
  {
   "cell_type": "code",
   "execution_count": 108,
   "id": "576a4d76",
   "metadata": {},
   "outputs": [
    {
     "data": {
      "text/plain": [
       "['KNN_Model.pkl']"
      ]
     },
     "execution_count": 108,
     "metadata": {},
     "output_type": "execute_result"
    }
   ],
   "source": [
    "joblib.dump(clf_main,\"KNN_Model.pkl\")"
   ]
  }
 ],
 "metadata": {
  "kernelspec": {
   "display_name": "Python 3 (ipykernel)",
   "language": "python",
   "name": "python3"
  },
  "language_info": {
   "codemirror_mode": {
    "name": "ipython",
    "version": 3
   },
   "file_extension": ".py",
   "mimetype": "text/x-python",
   "name": "python",
   "nbconvert_exporter": "python",
   "pygments_lexer": "ipython3",
   "version": "3.9.7"
  }
 },
 "nbformat": 4,
 "nbformat_minor": 5
}
