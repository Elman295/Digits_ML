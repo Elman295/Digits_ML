{
 "cells": [
  {
   "cell_type": "code",
   "execution_count": 21,
   "id": "2834eb14",
   "metadata": {},
   "outputs": [],
   "source": [
    "from sklearn.datasets import load_digits\n",
    "from sklearn.preprocessing import MinMaxScaler, Normalizer, StandardScaler\n",
    "%matplotlib inline\n",
    "import matplotlib.pyplot as plt\n",
    "import numpy as np"
   ]
  },
  {
   "cell_type": "code",
   "execution_count": 4,
   "id": "2688077f",
   "metadata": {},
   "outputs": [],
   "source": [
    "digits = load_digits()"
   ]
  },
  {
   "cell_type": "markdown",
   "id": "c50da2ea",
   "metadata": {},
   "source": [
    "Before scaling :"
   ]
  },
  {
   "cell_type": "code",
   "execution_count": 9,
   "id": "0f8a0083",
   "metadata": {},
   "outputs": [
    {
     "name": "stdout",
     "output_type": "stream",
     "text": [
      "data : \n",
      " [[ 0.  0.  5. 13.  9.  1.  0.  0.]\n",
      " [ 0.  0. 13. 15. 10. 15.  5.  0.]\n",
      " [ 0.  3. 15.  2.  0. 11.  8.  0.]\n",
      " [ 0.  4. 12.  0.  0.  8.  8.  0.]\n",
      " [ 0.  5.  8.  0.  0.  9.  8.  0.]\n",
      " [ 0.  4. 11.  0.  1. 12.  7.  0.]\n",
      " [ 0.  2. 14.  5. 10. 12.  0.  0.]\n",
      " [ 0.  0.  6. 13. 10.  0.  0.  0.]] \n",
      "\n",
      "class : 0\n"
     ]
    }
   ],
   "source": [
    "print(f\"data : \\n {digits.data[0].reshape(8,8)} \\n\")\n",
    "print(f\"class : {digits.target[0]}\")"
   ]
  },
  {
   "cell_type": "code",
   "execution_count": 29,
   "id": "1bf046c9",
   "metadata": {},
   "outputs": [
    {
     "data": {
      "image/png": "[encoded data removed]",
      "text/plain": [
       "<Figure size 432x288 with 1 Axes>"
      ]
     },
     "metadata": {
      "needs_background": "light"
     },
     "output_type": "display_data"
    }
   ],
   "source": [
    "\n",
    "plt.hist(digits.data[0])\n",
    "plt.xlabel(\"range of features\")\n",
    "plt.show()"
   ]
  },
  {
   "cell_type": "markdown",
   "id": "63844b4b",
   "metadata": {},
   "source": [
    "# MinMaxScaler"
   ]
  },
  {
   "cell_type": "markdown",
   "id": "89928dd2",
   "metadata": {},
   "source": [
    "definition :\n",
    "    This estimator scales and translates each feature individually such that it is in the given range on the training set, e.g. between zero and one\n",
    "    \n",
    "Source : https://scikit-learn.org/stable/modules/generated/sklearn.preprocessing.MinMaxScaler.html\n"
   ]
  },
  {
   "cell_type": "code",
   "execution_count": 19,
   "id": "b54396c0",
   "metadata": {},
   "outputs": [
    {
     "name": "stdout",
     "output_type": "stream",
     "text": [
      "[0.         0.         0.3125     0.8125     0.5625     0.0625\n",
      " 0.         0.         0.         0.         0.8125     0.9375\n",
      " 0.625      0.9375     0.3125     0.         0.         0.1875\n",
      " 0.9375     0.125      0.         0.6875     0.5        0.\n",
      " 0.         0.26666667 0.75       0.         0.         0.5\n",
      " 0.53333333 0.         0.         0.35714286 0.5        0.\n",
      " 0.         0.5625     0.57142857 0.         0.         0.25\n",
      " 0.6875     0.         0.0625     0.75       0.4375     0.\n",
      " 0.         0.125      0.875      0.3125     0.625      0.75\n",
      " 0.         0.         0.         0.         0.375      0.8125\n",
      " 0.625      0.         0.         0.        ]\n"
     ]
    }
   ],
   "source": [
    "minmaxscaler = MinMaxScaler()\n",
    "minmaxscaler.fit(digits.data)\n",
    "x_scale = minmaxscaler.transform(digits.data)\n",
    "print(x_scale[0])"
   ]
  },
  {
   "cell_type": "code",
   "execution_count": 30,
   "id": "ad2e69f1",
   "metadata": {},
   "outputs": [
    {
     "data": {
      "image/png": "[encoded data removed]",
      "text/plain": [
       "<Figure size 432x288 with 1 Axes>"
      ]
     },
     "metadata": {
      "needs_background": "light"
     },
     "output_type": "display_data"
    }
   ],
   "source": [
    "plt.hist(x_scale[0],bins=20)\n",
    "plt.xlabel(\"range of features\")\n",
    "plt.show()"
   ]
  },
  {
   "cell_type": "markdown",
   "id": "01ebd120",
   "metadata": {},
   "source": [
    "# Normalizer"
   ]
  },
  {
   "cell_type": "markdown",
   "id": "0e5c29cc",
   "metadata": {},
   "source": [
    "Normalize samples individually to unit norm.\n",
    "\n",
    "Each sample (i.e. each row of the data matrix) with at least one non zero component is rescaled independently of other samples so that its norm (l1, l2 or inf) equals one.\n",
    "\n",
    "This transformer is able to work both with dense numpy arrays and scipy.sparse matrix (use CSR format if you want to avoid the burden of a copy / conversion).\n",
    "\n",
    "Scaling inputs to unit norms is a common operation for text classification or clustering for instance. For instance the dot product of two l2-normalized TF-IDF vectors is the cosine similarity of the vectors and is the base similarity metric for the Vector Space Model commonly used by the Information Retrieval community.\n",
    "\n",
    "Source : https://scikit-learn.org/stable/modules/generated/sklearn.preprocessing.Normalizer.html"
   ]
  },
  {
   "cell_type": "code",
   "execution_count": 32,
   "id": "1d052eda",
   "metadata": {},
   "outputs": [
    {
     "name": "stdout",
     "output_type": "stream",
     "text": [
      "[0.         0.         0.09024036 0.23462493 0.16243265 0.01804807\n",
      " 0.         0.         0.         0.         0.23462493 0.27072108\n",
      " 0.18048072 0.27072108 0.09024036 0.         0.         0.05414422\n",
      " 0.27072108 0.03609614 0.         0.19852879 0.14438458 0.\n",
      " 0.         0.07219229 0.21657686 0.         0.         0.14438458\n",
      " 0.14438458 0.         0.         0.09024036 0.14438458 0.\n",
      " 0.         0.16243265 0.14438458 0.         0.         0.07219229\n",
      " 0.19852879 0.         0.01804807 0.21657686 0.1263365  0.\n",
      " 0.         0.03609614 0.25267301 0.09024036 0.18048072 0.21657686\n",
      " 0.         0.         0.         0.         0.10828843 0.23462493\n",
      " 0.18048072 0.         0.         0.        ]\n"
     ]
    }
   ],
   "source": [
    "normalizer = Normalizer()\n",
    "normalizer.fit(digits.data)\n",
    "x_scale = normalizer.transform(digits.data)\n",
    "print(x_scale[0])"
   ]
  },
  {
   "cell_type": "code",
   "execution_count": 33,
   "id": "7a0954bc",
   "metadata": {},
   "outputs": [
    {
     "data": {
      "image/png": "[encoded data removed]",
      "text/plain": [
       "<Figure size 432x288 with 1 Axes>"
      ]
     },
     "metadata": {
      "needs_background": "light"
     },
     "output_type": "display_data"
    }
   ],
   "source": [
    "plt.hist(x_scale[0],bins=20)\n",
    "plt.xlabel(\"range of features\")\n",
    "plt.show()"
   ]
  },
  {
   "cell_type": "markdown",
   "id": "36907ffd",
   "metadata": {},
   "source": [
    "# StandardScaler"
   ]
  },
  {
   "cell_type": "markdown",
   "id": "0c31f811",
   "metadata": {},
   "source": [
    "z = (x - u) / s\n",
    "\n",
    "u : mean\n",
    "\n",
    "s : std"
   ]
  },
  {
   "cell_type": "code",
   "execution_count": 34,
   "id": "b982bdf5",
   "metadata": {},
   "outputs": [
    {
     "name": "stdout",
     "output_type": "stream",
     "text": [
      "[ 0.         -0.33501649 -0.04308102  0.27407152 -0.66447751 -0.84412939\n",
      " -0.40972392 -0.12502292 -0.05907756 -0.62400926  0.4829745   0.75962245\n",
      " -0.05842586  1.12772113  0.87958306 -0.13043338 -0.04462507  0.11144272\n",
      "  0.89588044 -0.86066632 -1.14964846  0.51547187  1.90596347 -0.11422184\n",
      " -0.03337973  0.48648928  0.46988512 -1.49990136 -1.61406277  0.07639777\n",
      "  1.54181413 -0.04723238  0.          0.76465553  0.05263019 -1.44763006\n",
      " -1.73666443  0.04361588  1.43955804  0.         -0.06134367  0.8105536\n",
      "  0.63011714 -1.12245711 -1.06623158  0.66096475  0.81845076 -0.08874162\n",
      " -0.03543326  0.74211893  1.15065212 -0.86867056  0.11012973  0.53761116\n",
      " -0.75743581 -0.20978513 -0.02359646 -0.29908135  0.08671869  0.20829258\n",
      " -0.36677122 -1.14664746 -0.5056698  -0.19600752]\n"
     ]
    }
   ],
   "source": [
    "standardscaler = StandardScaler()\n",
    "standardscaler.fit(digits.data)\n",
    "x_scale = standardscaler.transform(digits.data)\n",
    "print(x_scale[0])"
   ]
  },
  {
   "cell_type": "code",
   "execution_count": 35,
   "id": "31a870b1",
   "metadata": {},
   "outputs": [
    {
     "data": {
      "image/png": "[encoded data removed]",
      "text/plain": [
       "<Figure size 432x288 with 1 Axes>"
      ]
     },
     "metadata": {
      "needs_background": "light"
     },
     "output_type": "display_data"
    }
   ],
   "source": [
    "plt.hist(x_scale[0],bins=20)\n",
    "plt.xlabel(\"range of features\")\n",
    "plt.show()"
   ]
  }
 ],
 "metadata": {
  "kernelspec": {
   "display_name": "Python 3 (ipykernel)",
   "language": "python",
   "name": "python3"
  },
  "language_info": {
   "codemirror_mode": {
    "name": "ipython",
    "version": 3
   },
   "file_extension": ".py",
   "mimetype": "text/x-python",
   "name": "python",
   "nbconvert_exporter": "python",
   "pygments_lexer": "ipython3",
   "version": "3.9.7"
  }
 },
 "nbformat": 4,
 "nbformat_minor": 5
}
